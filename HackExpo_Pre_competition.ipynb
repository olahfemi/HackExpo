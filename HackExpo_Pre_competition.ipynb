{
  "nbformat": 4,
  "nbformat_minor": 0,
  "metadata": {
    "colab": {
      "name": " HackExpo Pre-competition.ipynb",
      "version": "0.3.2",
      "provenance": [],
      "collapsed_sections": [],
      "include_colab_link": true
    },
    "kernelspec": {
      "name": "python3",
      "display_name": "Python 3"
    }
  },
  "cells": [
    {
      "cell_type": "markdown",
      "metadata": {
        "id": "view-in-github",
        "colab_type": "text"
      },
      "source": [
        "<a href=\"https://colab.research.google.com/github/olahfemi/HackExpo/blob/master/HackExpo_Pre_competition.ipynb\" target=\"_parent\"><img src=\"https://colab.research.google.com/assets/colab-badge.svg\" alt=\"Open In Colab\"/></a>"
      ]
    },
    {
      "metadata": {
        "id": "PqTyQmWkS6vh",
        "colab_type": "code",
        "colab": {}
      },
      "cell_type": "code",
      "source": [
        "!unzip test.zip\n",
        "!unzip train.zip"
      ],
      "execution_count": 0,
      "outputs": []
    },
    {
      "metadata": {
        "id": "y13j8r2seqq7",
        "colab_type": "code",
        "colab": {}
      },
      "cell_type": "code",
      "source": [
        "import os\n",
        "import glob as glob\n",
        "import tensorflow as tf\n",
        "import numpy as np\n",
        "from PIL import Image\n",
        "import matplotlib.pyplot as plt\n",
        "from sklearn.utils import random\n",
        "from sklearn.preprocessing import OneHotEncoder\n"
      ],
      "execution_count": 0,
      "outputs": []
    },
    {
      "metadata": {
        "id": "y0wEPOG6n-k0",
        "colab_type": "code",
        "colab": {}
      },
      "cell_type": "code",
      "source": [
        "def train_test_data():\n",
        "  image_dir=[]\n",
        "  train_image=[]\n",
        "  labels=[]\n",
        "  folders=glob.glob('train/*')#gets all the folders in the train folder ['train/0','train/1','train/2'....,'train/9']\n",
        "  \n",
        "  #get image directory and labels\n",
        "  for i in folders:\n",
        "    image_dir+=glob.glob(i+'/*')#get the dir of images for a give class \n",
        "    labels+= [int(i[-1])]*len(glob.glob(i+'/*')) #for every image class loaded equal amounts of labels are loaded too\n",
        "  \n",
        "  #open images ,covert to array and flatten\n",
        "  for i in image_dir:\n",
        "    image=Image.open(i).convert('L')\n",
        "    image=np.array(i).flatten()\n",
        "    train_image.append(image)\n",
        "    pass\n",
        "  #one hot encode labels\n",
        "  onehot=OneHotEncoder(sparse=False)\n",
        "  labels=np.reshape(np.asarray(labels),(len(np.asarray(labels)),1)) #covert list to array then reshape\n",
        "  labels=onehot.fit_transform(labels)\n",
        "  \n",
        "  #shuffle data\n",
        "  train_image,labels=shuffle(train_image,labels,random_state=3)\n",
        "  \n",
        "   \n",
        "  return ([train_image,labels])\n",
        "    \n",
        "    \n",
        "    \n",
        "    \n",
        "    "
      ],
      "execution_count": 0,
      "outputs": []
    },
    {
      "metadata": {
        "id": "zjcNnoBtt_4e",
        "colab_type": "code",
        "colab": {}
      },
      "cell_type": "code",
      "source": [
        "train_images_files = []\n",
        "\n",
        "train = glob.glob('train/*')\n",
        "\n",
        "for i in train:\n",
        "  train_images_files += glob.glob(i+'/*')\n",
        "\n",
        "# train_images_files"
      ],
      "execution_count": 0,
      "outputs": []
    },
    {
      "metadata": {
        "id": "d0_O6f4UEMrq",
        "colab_type": "code",
        "colab": {}
      },
      "cell_type": "code",
      "source": [
        "train_labels = []\n",
        "  \n",
        "for i in train:\n",
        "  train_labels += [int(i[-1])] * len(glob.glob(i+'/*'))\n",
        "  \n",
        "# train_labels"
      ],
      "execution_count": 0,
      "outputs": []
    },
    {
      "metadata": {
        "id": "AbsdymY0FCdE",
        "colab_type": "code",
        "colab": {}
      },
      "cell_type": "code",
      "source": [
        "train_images = []\n",
        "\n",
        "for i in train_images_files:\n",
        "  image = Image.open(i).convert('L')\n",
        "  image = np.array(i).flatten()\n",
        "  train_images.append(image)\n",
        "  \n",
        "# train_images"
      ],
      "execution_count": 0,
      "outputs": []
    },
    {
      "metadata": {
        "id": "X8mpWtrFGJJT",
        "colab_type": "code",
        "outputId": "95a95ec3-b867-4837-f224-d570d60cf491",
        "colab": {
          "base_uri": "https://localhost:8080/",
          "height": 139
        }
      },
      "cell_type": "code",
      "source": [
        "onehot = OneHotEncoder(sparse=False)\n",
        "\n",
        "train_labels = np.reshape(np.asarray(train_labels),(len(np.asarray(train_labels)),1))\n",
        "\n",
        "train_labels = onehot.fit_transform(train_labels)\n",
        "\n",
        "train_labels"
      ],
      "execution_count": 33,
      "outputs": [
        {
          "output_type": "execute_result",
          "data": {
            "text/plain": [
              "array([[0., 0., 0., ..., 0., 0., 0.],\n",
              "       [0., 0., 0., ..., 0., 0., 0.],\n",
              "       [0., 0., 0., ..., 0., 0., 0.],\n",
              "       ...,\n",
              "       [0., 0., 0., ..., 0., 0., 0.],\n",
              "       [0., 0., 0., ..., 0., 0., 0.],\n",
              "       [0., 0., 0., ..., 0., 0., 0.]])"
            ]
          },
          "metadata": {
            "tags": []
          },
          "execution_count": 33
        }
      ]
    }
  ]
}