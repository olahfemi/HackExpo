{
  "nbformat": 4,
  "nbformat_minor": 0,
  "metadata": {
    "colab": {
      "name": "Untitled42.ipynb",
      "version": "0.3.2",
      "provenance": [],
      "collapsed_sections": [],
      "include_colab_link": true
    },
    "kernelspec": {
      "name": "python3",
      "display_name": "Python 3"
    }
  },
  "cells": [
    {
      "cell_type": "markdown",
      "metadata": {
        "id": "view-in-github",
        "colab_type": "text"
      },
      "source": [
        "<a href=\"https://colab.research.google.com/github/olahfemi/HackExpo/blob/master/HackExpo%20Pre-competition.ipynb\" target=\"_parent\"><img src=\"https://colab.research.google.com/assets/colab-badge.svg\" alt=\"Open In Colab\"/></a>"
      ]
    },
    {
      "metadata": {
        "id": "A82QqR8ISwUp",
        "colab_type": "code",
        "outputId": "15fefbfd-fbf0-4e48-ad4c-89bd28f4242d",
        "colab": {
          "base_uri": "https://localhost:8080/",
          "height": 228
        }
      },
      "cell_type": "code",
      "source": [
        "!pip install kaggle"
      ],
      "execution_count": 0,
      "outputs": [
        {
          "output_type": "stream",
          "text": [
            "Requirement already satisfied: kaggle in /usr/local/lib/python3.6/dist-packages (1.5.0)\n",
            "Requirement already satisfied: tqdm in /usr/local/lib/python3.6/dist-packages (from kaggle) (4.28.1)\n",
            "Requirement already satisfied: six>=1.10 in /usr/local/lib/python3.6/dist-packages (from kaggle) (1.11.0)\n",
            "Requirement already satisfied: requests in /usr/local/lib/python3.6/dist-packages (from kaggle) (2.18.4)\n",
            "Requirement already satisfied: python-dateutil in /usr/local/lib/python3.6/dist-packages (from kaggle) (2.5.3)\n",
            "Requirement already satisfied: urllib3<1.23.0,>=1.15 in /usr/local/lib/python3.6/dist-packages (from kaggle) (1.22)\n",
            "Requirement already satisfied: certifi in /usr/local/lib/python3.6/dist-packages (from kaggle) (2018.10.15)\n",
            "Requirement already satisfied: python-slugify in /usr/local/lib/python3.6/dist-packages (from kaggle) (1.2.6)\n",
            "Requirement already satisfied: chardet<3.1.0,>=3.0.2 in /usr/local/lib/python3.6/dist-packages (from requests->kaggle) (3.0.4)\n",
            "Requirement already satisfied: idna<2.7,>=2.5 in /usr/local/lib/python3.6/dist-packages (from requests->kaggle) (2.6)\n",
            "Requirement already satisfied: Unidecode>=0.04.16 in /usr/local/lib/python3.6/dist-packages (from python-slugify->kaggle) (1.0.22)\n"
          ],
          "name": "stdout"
        }
      ]
    },
    {
      "metadata": {
        "id": "tRIaU48CS09c",
        "colab_type": "code",
        "colab": {}
      },
      "cell_type": "code",
      "source": [
        "\n",
        "!mkdir ~p ~/.kaggle\n",
        "!cp kaggle.json ~/.kaggle/\n",
        "\n",
        "\n",
        "!chmod 600 ~/.kaggle/kaggle.json"
      ],
      "execution_count": 0,
      "outputs": []
    },
    {
      "metadata": {
        "id": "T175dGyZS35x",
        "colab_type": "code",
        "outputId": "33e031c9-0df0-4b94-a43a-60543e9d6678",
        "colab": {
          "base_uri": "https://localhost:8080/",
          "height": 170
        }
      },
      "cell_type": "code",
      "source": [
        "!kaggle competitions download -c hackexpo2018-pre-competition"
      ],
      "execution_count": 0,
      "outputs": [
        {
          "output_type": "stream",
          "text": [
            "Downloading sample-submission.csv to /content\n",
            "\r  0% 0.00/430k [00:00<?, ?B/s]\n",
            "100% 430k/430k [00:00<00:00, 71.3MB/s]\n",
            "Downloading test.zip to /content\n",
            " 56% 5.00M/8.93M [00:00<00:00, 35.4MB/s]\n",
            "100% 8.93M/8.93M [00:00<00:00, 57.8MB/s]\n",
            "Downloading train.zip to /content\n",
            " 84% 45.0M/53.9M [00:00<00:00, 53.6MB/s]\n",
            "100% 53.9M/53.9M [00:00<00:00, 105MB/s] \n"
          ],
          "name": "stdout"
        }
      ]
    },
    {
      "metadata": {
        "id": "PqTyQmWkS6vh",
        "colab_type": "code",
        "colab": {}
      },
      "cell_type": "code",
      "source": [
        "!unzip test.zip\n",
        "!unzip train.zip"
      ],
      "execution_count": 0,
      "outputs": []
    },
    {
      "metadata": {
        "id": "y13j8r2seqq7",
        "colab_type": "code",
        "colab": {}
      },
      "cell_type": "code",
      "source": [
        "import os\n",
        "import glob as glob\n",
        "import tensorflow as tf\n",
        "import numpy as np\n",
        "from PIL import Image\n",
        "import matplotlib.pyplot as plt\n",
        "from sklearn.utils import random\n",
        "from sklearn.preprocessing import OneHotEncoder\n"
      ],
      "execution_count": 0,
      "outputs": []
    },
    {
      "metadata": {
        "id": "y0wEPOG6n-k0",
        "colab_type": "code",
        "colab": {}
      },
      "cell_type": "code",
      "source": [
        "def train_test_data():\n",
        "  image_dir=[]\n",
        "  train_image=[]\n",
        "  labels=[]\n",
        "  folders=glob.glob('train/*')#gets all the folders in the train folder ['train/0','train/1','train/2'....,'train/9']\n",
        "  \n",
        "  #get image directory and labels\n",
        "  for i in folders:\n",
        "    image_dir+=glob.glob(i+'/*')#get the dir of images for a give class \n",
        "    labels+= [int(i[-1])]*len(glob.glob(i+'/*')) #for every image class loaded equal amounts of labels are loaded too\n",
        "  \n",
        "  #open images ,covert to array and flatten\n",
        "  for i in image_dir:\n",
        "    image=Image.open(i).convert('L')\n",
        "    image=np.array(i).flatten()\n",
        "    train_image.append(image)\n",
        "    pass\n",
        "  #one hot encode labels\n",
        "  onehot=OneHotEncoder(sparse=False)\n",
        "  labels=np.reshape(np.asarray(labels),(len(np.asarray(labels)),1)) #covert list to array then reshape\n",
        "  labels=onehot.fit_transform(labels)\n",
        "  \n",
        "  #shuffle data\n",
        "  train_image,labels=shuffle(train_image,labels,random_state=3)\n",
        "  \n",
        "   \n",
        "  return ([train_image,labels])\n",
        "    \n",
        "    \n",
        "    \n",
        "    \n",
        "    "
      ],
      "execution_count": 0,
      "outputs": []
    },
    {
      "metadata": {
        "id": "zjcNnoBtt_4e",
        "colab_type": "code",
        "colab": {}
      },
      "cell_type": "code",
      "source": [
        ""
      ],
      "execution_count": 0,
      "outputs": []
    }
  ]
}